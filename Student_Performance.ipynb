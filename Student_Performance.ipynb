{
  "nbformat": 4,
  "nbformat_minor": 0,
  "metadata": {
    "colab": {
      "provenance": [],
      "toc_visible": true,
      "authorship_tag": "ABX9TyNi0jnUg7LMAwYA8QN/ewcW",
      "include_colab_link": true
    },
    "kernelspec": {
      "name": "python3",
      "display_name": "Python 3"
    },
    "language_info": {
      "name": "python"
    }
  },
  "cells": [
    {
      "cell_type": "markdown",
      "metadata": {
        "id": "view-in-github",
        "colab_type": "text"
      },
      "source": [
        "<a href=\"https://colab.research.google.com/github/carlos-alves-one/-DV_CW2/blob/main/Student_Performance.ipynb\" target=\"_parent\"><img src=\"https://colab.research.google.com/assets/colab-badge.svg\" alt=\"Open In Colab\"/></a>"
      ]
    },
    {
      "cell_type": "markdown",
      "source": [
        "### Goldsmiths University of London\n",
        "### MSc. Data Science and Artificial Intelligence\n",
        "### Module: Data Visualization\n",
        "### Author: Carlos Manuel De Oliveira Alves\n",
        "### Student: cdeol003"
      ],
      "metadata": {
        "id": "PEzQmG-hf3HC"
      }
    },
    {
      "cell_type": "markdown",
      "source": [
        "### Load the data"
      ],
      "metadata": {
        "id": "faGdoDPxl54G"
      }
    },
    {
      "cell_type": "code",
      "source": [
        "# Imports the 'drive' module from 'google.colab' and mounts the Google Drive to\n",
        "# the '/content/drive' directory in the Colab environment.\n",
        "from google.colab import drive\n",
        "drive.mount('/content/drive')\n"
      ],
      "metadata": {
        "colab": {
          "base_uri": "https://localhost:8080/"
        },
        "id": "17huUYKol6lG",
        "outputId": "0bbbd6e9-c693-4b16-b6bb-dfe277927fa1"
      },
      "execution_count": 1,
      "outputs": [
        {
          "output_type": "stream",
          "name": "stdout",
          "text": [
            "Mounted at /content/drive\n"
          ]
        }
      ]
    },
    {
      "cell_type": "code",
      "source": [
        "# Importing the pandas library\n",
        "import pandas as pd\n",
        "\n",
        "# Loading the datasets using pandas\n",
        "student_mat = pd.read_csv('/content/drive/MyDrive/student/student-mat.csv', sep=';')\n",
        "student_por = pd.read_csv('/content/drive/MyDrive/student/student-por.csv', sep=';')\n",
        "\n",
        "print(\"\\n-> Mathematics dataset\")\n",
        "# Displaying the first few rows of the Mathematics dataset\n",
        "print(student_mat.head().T)\n",
        "print(\"\\n-------------------------------------------------------\\n\")\n",
        "# Displaying the first few rows of the Portuguese dataset\n",
        "print(\"-> Portuguese dataset\")\n",
        "print(student_por.head().T)\n"
      ],
      "metadata": {
        "colab": {
          "base_uri": "https://localhost:8080/"
        },
        "id": "cFdw0bzqnOqO",
        "outputId": "c1d1f596-83f0-4ef7-d033-ad4806693005"
      },
      "execution_count": 2,
      "outputs": [
        {
          "output_type": "stream",
          "name": "stdout",
          "text": [
            "\n",
            "-> Mathematics dataset\n",
            "                  0        1        2         3       4\n",
            "school           GP       GP       GP        GP      GP\n",
            "sex               F        F        F         F       F\n",
            "age              18       17       15        15      16\n",
            "address           U        U        U         U       U\n",
            "famsize         GT3      GT3      LE3       GT3     GT3\n",
            "Pstatus           A        T        T         T       T\n",
            "Medu              4        1        1         4       3\n",
            "Fedu              4        1        1         2       3\n",
            "Mjob        at_home  at_home  at_home    health   other\n",
            "Fjob        teacher    other    other  services   other\n",
            "reason       course   course    other      home    home\n",
            "guardian     mother   father   mother    mother  father\n",
            "traveltime        2        1        1         1       1\n",
            "studytime         2        2        2         3       2\n",
            "failures          0        0        3         0       0\n",
            "schoolsup       yes       no      yes        no      no\n",
            "famsup           no      yes       no       yes     yes\n",
            "paid             no       no      yes       yes     yes\n",
            "activities       no       no       no       yes      no\n",
            "nursery         yes       no      yes       yes     yes\n",
            "higher          yes      yes      yes       yes     yes\n",
            "internet         no      yes      yes       yes      no\n",
            "romantic         no       no       no       yes      no\n",
            "famrel            4        5        4         3       4\n",
            "freetime          3        3        3         2       3\n",
            "goout             4        3        2         2       2\n",
            "Dalc              1        1        2         1       1\n",
            "Walc              1        1        3         1       2\n",
            "health            3        3        3         5       5\n",
            "absences          6        4       10         2       4\n",
            "G1                5        5        7        15       6\n",
            "G2                6        5        8        14      10\n",
            "G3                6        6       10        15      10\n",
            "\n",
            "-------------------------------------------------------\n",
            "\n",
            "-> Portuguese dataset\n",
            "                  0        1        2         3       4\n",
            "school           GP       GP       GP        GP      GP\n",
            "sex               F        F        F         F       F\n",
            "age              18       17       15        15      16\n",
            "address           U        U        U         U       U\n",
            "famsize         GT3      GT3      LE3       GT3     GT3\n",
            "Pstatus           A        T        T         T       T\n",
            "Medu              4        1        1         4       3\n",
            "Fedu              4        1        1         2       3\n",
            "Mjob        at_home  at_home  at_home    health   other\n",
            "Fjob        teacher    other    other  services   other\n",
            "reason       course   course    other      home    home\n",
            "guardian     mother   father   mother    mother  father\n",
            "traveltime        2        1        1         1       1\n",
            "studytime         2        2        2         3       2\n",
            "failures          0        0        0         0       0\n",
            "schoolsup       yes       no      yes        no      no\n",
            "famsup           no      yes       no       yes     yes\n",
            "paid             no       no       no        no      no\n",
            "activities       no       no       no       yes      no\n",
            "nursery         yes       no      yes       yes     yes\n",
            "higher          yes      yes      yes       yes     yes\n",
            "internet         no      yes      yes       yes      no\n",
            "romantic         no       no       no       yes      no\n",
            "famrel            4        5        4         3       4\n",
            "freetime          3        3        3         2       3\n",
            "goout             4        3        2         2       2\n",
            "Dalc              1        1        2         1       1\n",
            "Walc              1        1        3         1       2\n",
            "health            3        3        3         5       5\n",
            "absences          4        2        6         0       0\n",
            "G1                0        9       12        14      11\n",
            "G2               11       11       13        14      13\n",
            "G3               11       11       12        14      13\n"
          ]
        }
      ]
    },
    {
      "cell_type": "markdown",
      "source": [
        "Dataset source: https://archive.ics.uci.edu/dataset/320/student+performance"
      ],
      "metadata": {
        "id": "9KfY3XzUoX6t"
      }
    },
    {
      "cell_type": "markdown",
      "source": [
        "License: This dataset is licensed under a https://creativecommons.org/licenses/by/4.0/legalcode (CC BY 4.0) license."
      ],
      "metadata": {
        "id": "CxUnY43Nofwu"
      }
    },
    {
      "cell_type": "markdown",
      "source": [
        "# Introduction\n",
        "\n",
        "### **Analysis of Student Performance in Secondary Education:**\n",
        "\n",
        "This report presents a comprehensive analysis of student achievement in secondary education, focusing on two Portuguese schools. Utilizing detailed datasets covering both Mathematics and Portuguese language classes, the study examines a range of demographic, social, and academic factors to understand their impact on student performance. Derived from school reports and questionnaires, the datasets include grades across three academic periods (G1, G2, G3) alongside various student background characteristics.\n",
        "\n",
        "#### Structure of the Report\n",
        "1. **Data Overview**: We begin with an exploration of the datasets, highlighting key attributes such as student demographics, parental background, and academic records.\n",
        "2. **Descriptive Statistics**: An initial analysis provides insights into the general trends within the data, such as average grades and attendance.\n",
        "3. **Correlation Analysis**: We delve into the relationships between different factors, mainly focusing on how early-period grades (G1 and G2) correlate with final grades (G3).\n",
        "4. **Predictive Modeling**: The report presents models predicting final grades based on various variables, assessing their accuracy and utility.\n",
        "5. **Segmented Analysis**: We conduct a detailed examination of how different demographic groups, such as gender and age, as well as parental education levels, affect student performance.\n",
        "\n",
        "#### Key Findings\n",
        "- **Strong Predictive Power of Early Grades**: A significant correlation is observed between G1, G2, and the final year grade G3, underscoring the importance of consistent academic performance.\n",
        "- **Gender Disparities**: Female students consistently outperform male students in Mathematics and Portuguese.\n",
        "- **Influence of Age and Parental Education**: Younger students generally achieve higher grades, and a higher level of parental education, particularly the mother's, is associated with better student performance.\n",
        "- **Predictive Modeling Insights**: Models for both subjects show good predictive capabilities, with the model for Portuguese displaying an exceptionally high accuracy.\n",
        "\n",
        "This investigation aims to provide valuable insights into the factors influencing student achievement, aiding educators and policymakers in enhancing educational strategies and student support mechanisms."
      ],
      "metadata": {
        "id": "nE3GvusyptNA"
      }
    },
    {
      "cell_type": "markdown",
      "source": [
        "# Background\n",
        "\n",
        "###**Understanding Student Performance in Secondary Education:**\n",
        "\n",
        "The analysis of student performance in secondary education is a topic of ongoing interest and research, given its implications for educational policies and future academic and career success. This discussion draws upon existing research and recent news stories to contextualize our analysis of student performance in two Portuguese schools.\n",
        "\n",
        "#### Related Research\n",
        "1. **Academic Performance Predictors**: The study by Eyman Alyahyan et al. (2020) [1] has explored the predictors of academic performance, with a significant focus on data mining techniques for effective prediction. Common findings underscore the importance of early academic achievement, socioeconomic status, parental involvement, student demographics, e-learning activity, psychological attributes, and environmental factors. For instance, our observations align with the literature emphasizing the strong correlation between grades in early education (G1, G2, and G3) and future academic success. This multifaceted approach underlines the complex interplay of various factors in shaping academic outcomes.\n",
        "\n",
        "2. **Gender Differences in Education**: Research has consistently shown gender disparities in education, often favouring female students regarding grades and academic engagement. A publication by the OECD (2015) [2] discussed how these differences manifest across various countries and subjects, resonating with our finding that female students generally outperform males in Mathematics and Portuguese.\n",
        "\n",
        "3. **Parental Influence on Academic Achievement**: The influence of parental background, particularly education levels, has been extensively documented. A study by Jeynes (2007) in the \"Urban Education\" journal found [3] that parental education levels significantly impact student academic outcomes, aligning with our observations regarding the correlation between maternal education and student grades.\n",
        "\n",
        "#### Recent News Stories\n",
        "1. **Educational Trends in Portugal**: Recent news from sources like \"The Portugal News\" [4] highlights the evolving educational landscape in Portugal, focusing on government initiatives to address educational disparities and improve overall academic performance. These stories provide a real-world context for our analysis, demonstrating the practical implications of understanding factors influencing student achievement.\n",
        "\n",
        "2. **Global Shifts in Education During the Pandemic**: The COVID-19 pandemic brought significant changes to education systems worldwide. Reports from various media outlets, including \"Al Jazeera\" [5] and others have discussed the challenges and transformations in education during this period, such as the shift to online learning and its impact on student performance. These developments underscore the importance of continuous analysis and adaptation in education strategies.\n",
        "\n",
        "3. **Focus on STEM Education and Gender**: There is an increasing focus on STEM (Science et al.) education, particularly in encouraging female participation. The report by the American Association of University Women (AAUW) [6] reflect global efforts to bridge gender gaps in STEM, relevant to our findings of gender differences in Mathematics performance.\n",
        "\n",
        "The background research and news stories provide a broader context for our analysis, highlighting the relevance and practical application of understanding various factors that influence student performance in secondary education."
      ],
      "metadata": {
        "id": "4EA7GCxdq1ba"
      }
    },
    {
      "cell_type": "markdown",
      "source": [
        "# Motivation\n",
        "\n",
        "The motivation for this study on student performance in secondary education at two Portuguese schools lies in the critical need to understand the various factors influencing academic success. By delving into student grades, demographic, social, and school-related features, this investigation aims to uncover the underlying patterns and relationships that drive student achievement in Mathematics and Portuguese language courses.\n",
        "\n",
        "Critical motivations for this project include:\n",
        "\n",
        "1. **Enhancing Educational Strategies**: Insights from this study could inform teachers, school administrators, and policymakers about effective strategies to enhance student learning. Understanding student performance factors can lead to more tailored and impactful educational interventions.\n",
        "\n",
        "2. **Identifying At-Risk Students**: Early identification of students likely to underperform could enable proactive support. By analyzing the correlations between grades in different academic periods and other attributes, educators can develop targeted programs to assist students who might struggle.\n",
        "\n",
        "3. **Improving Resource Allocation**: Schools often operate under limited resources. Data-driven insights from this study can help efficiently allocate these resources, ensuring they are directed towards programs and initiatives that have the most significant impact on student performance.\n",
        "\n",
        "4. **Understanding Socio-Economic Impacts**: The study will explore how demographic and social factors, such as family background and extracurricular activities, influence academic achievement. This understanding is crucial in addressing educational disparities and promoting equity in education.\n",
        "\n",
        "5. **Informing Curriculum Development**: By understanding which aspects of the curriculum correlate with higher student performance, educators can refine and adapt curricular content to meet students' needs and interests better.\n",
        "\n",
        "6. **Long-Term Academic and Career Success**: Uncovering the predictors of academic success in secondary education can have long-lasting implications on students' future academic and career paths. Insights from this study can help shape programs that improve immediate academic performance and contribute to long-term success.\n",
        "\n",
        "7. **Practical Utility in Independent Prediction**: Predicting final year grades independently of prior period grades (G3 without G1 and G2) offers a significant challenge and a more excellent practical utility. Achieving this would provide a more robust understanding of the factors influencing student performance, independent of their earlier academic record.\n",
        "\n",
        "The potential impact of this study is substantial, offering a data-driven foundation for enhancing student outcomes and contributing to the broader field of educational research."
      ],
      "metadata": {
        "id": "IvNJA5j7bs9r"
      }
    },
    {
      "cell_type": "markdown",
      "source": [
        "# References\n",
        "\n",
        "1. Article by Eyman Alyahyan et al. (2020):\n",
        "- Title: \"Predicting academic success in higher education: literature review and best practices\"\n",
        "- Journal: International Journal of Educational Technology in Higher Education\n",
        "- Published: February 2020\n",
        "- Authors: Eyman Alyahyan and Dilek Düştegör\n",
        "- Available: https://educationaltechnologyjournal.springeropen.com/articles/10.1186/s41239-020-0177-7\n",
        "\n",
        "\n",
        "2. Publication by the OECD (2015):\n",
        "- Title: \"The persistence of gender gaps in education and skills\"\n",
        "- Available: https://www.oecd-ilibrary.org/sites/34680dd5-en/1/3/1/index.html?itemId=/content/publication/34680dd5-en&_csp_=84042831e2796e3dbd529f3148909734&itemIGO=oecd&itemContentType=book\n",
        "\n",
        "\n",
        "3. Article by Jeynes, William H. (2007):\n",
        "- Title: \"The Relationship between Parental Involvement and Urban Secondary School Student Academic Achievement\"\n",
        "- Journal: ERIC\n",
        "- Published: 2007\n",
        "- Authors: Jeynes, William H.\n",
        "- Available: https://eric.ed.gov/?id=EJ748034\n",
        "\n",
        "\n",
        "4. Article by The Portugal News (2020):\n",
        "- Title: \"State of Education 2019\"\n",
        "- Published: December 2020\n",
        "- Authors: TPN/Lusa\n",
        "- Available: https://www.theportugalnews.com/news/2020-12-23/education-improving-in-portugal/57356\n",
        "\n",
        "\n",
        "5. Article by Al Jazeera (2023):\n",
        "- Title: \"‘Unprecedented’ decline in global literacy scores, OECD report says\"\n",
        "- Published: December 2023\n",
        "- Authors: News Agencies\n",
        "- Available: https://www.aljazeera.com/news/2023/12/5/unprecedented-decline-in-global-literacy-scores-osce-report-says\n",
        "\n",
        "\n",
        "6. Report by the American Association of University Women (AAUW):\n",
        "- Title: \"The STEM Gap: Women and Girls in Science, Technology, Engineering and Mathematics\"\n",
        "- Available: https://www.aauw.org/resources/research/the-stem-gap/"
      ],
      "metadata": {
        "id": "mrx3Z_XivamH"
      }
    }
  ]
}