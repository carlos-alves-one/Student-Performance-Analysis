{
  "nbformat": 4,
  "nbformat_minor": 0,
  "metadata": {
    "colab": {
      "provenance": [],
      "toc_visible": true,
      "authorship_tag": "ABX9TyOjXJ2z21RIRqXCicDKf2Mh",
      "include_colab_link": true
    },
    "kernelspec": {
      "name": "python3",
      "display_name": "Python 3"
    },
    "language_info": {
      "name": "python"
    }
  },
  "cells": [
    {
      "cell_type": "markdown",
      "metadata": {
        "id": "view-in-github",
        "colab_type": "text"
      },
      "source": [
        "<a href=\"https://colab.research.google.com/github/carlos-alves-one/-DV_CW2/blob/main/Student_Performance.ipynb\" target=\"_parent\"><img src=\"https://colab.research.google.com/assets/colab-badge.svg\" alt=\"Open In Colab\"/></a>"
      ]
    },
    {
      "cell_type": "markdown",
      "source": [
        "### Goldsmiths University of London\n",
        "### MSc. Data Science and Artificial Intelligence\n",
        "### Module: Data Visualization\n",
        "### Author: Carlos Manuel De Oliveira Alves\n",
        "### Student: cdeol003"
      ],
      "metadata": {
        "id": "PEzQmG-hf3HC"
      }
    },
    {
      "cell_type": "markdown",
      "source": [
        "### Load the data"
      ],
      "metadata": {
        "id": "faGdoDPxl54G"
      }
    },
    {
      "cell_type": "code",
      "source": [
        "# Imports the 'drive' module from 'google.colab' and mounts the Google Drive to\n",
        "# the '/content/drive' directory in the Colab environment.\n",
        "from google.colab import drive\n",
        "drive.mount('/content/drive')\n"
      ],
      "metadata": {
        "colab": {
          "base_uri": "https://localhost:8080/"
        },
        "id": "17huUYKol6lG",
        "outputId": "e508200d-25f2-409c-ec5a-8ce5ae029702"
      },
      "execution_count": 1,
      "outputs": [
        {
          "output_type": "stream",
          "name": "stdout",
          "text": [
            "Mounted at /content/drive\n"
          ]
        }
      ]
    },
    {
      "cell_type": "code",
      "source": [
        "# Importing the pandas library\n",
        "import pandas as pd\n",
        "\n",
        "# Loading the datasets using pandas\n",
        "student_mat = pd.read_csv('/content/drive/MyDrive/student/student-mat.csv', sep=';')\n",
        "student_por = pd.read_csv('/content/drive/MyDrive/student/student-por.csv', sep=';')\n",
        "\n",
        "print(\"\\n-> Mathematics dataset\")\n",
        "# Displaying the first few rows of the Mathematics dataset\n",
        "print(student_mat.head().T)\n",
        "print(\"\\n-------------------------------------------------------\\n\")\n",
        "# Displaying the first few rows of the Portuguese dataset\n",
        "print(\"-> Portuguese dataset\")\n",
        "print(student_por.head().T)\n"
      ],
      "metadata": {
        "colab": {
          "base_uri": "https://localhost:8080/"
        },
        "id": "cFdw0bzqnOqO",
        "outputId": "18261d31-de3a-479f-9cd6-8811a594bbfb"
      },
      "execution_count": 8,
      "outputs": [
        {
          "output_type": "stream",
          "name": "stdout",
          "text": [
            "\n",
            "-> Mathematics dataset\n",
            "                  0        1        2         3       4\n",
            "school           GP       GP       GP        GP      GP\n",
            "sex               F        F        F         F       F\n",
            "age              18       17       15        15      16\n",
            "address           U        U        U         U       U\n",
            "famsize         GT3      GT3      LE3       GT3     GT3\n",
            "Pstatus           A        T        T         T       T\n",
            "Medu              4        1        1         4       3\n",
            "Fedu              4        1        1         2       3\n",
            "Mjob        at_home  at_home  at_home    health   other\n",
            "Fjob        teacher    other    other  services   other\n",
            "reason       course   course    other      home    home\n",
            "guardian     mother   father   mother    mother  father\n",
            "traveltime        2        1        1         1       1\n",
            "studytime         2        2        2         3       2\n",
            "failures          0        0        3         0       0\n",
            "schoolsup       yes       no      yes        no      no\n",
            "famsup           no      yes       no       yes     yes\n",
            "paid             no       no      yes       yes     yes\n",
            "activities       no       no       no       yes      no\n",
            "nursery         yes       no      yes       yes     yes\n",
            "higher          yes      yes      yes       yes     yes\n",
            "internet         no      yes      yes       yes      no\n",
            "romantic         no       no       no       yes      no\n",
            "famrel            4        5        4         3       4\n",
            "freetime          3        3        3         2       3\n",
            "goout             4        3        2         2       2\n",
            "Dalc              1        1        2         1       1\n",
            "Walc              1        1        3         1       2\n",
            "health            3        3        3         5       5\n",
            "absences          6        4       10         2       4\n",
            "G1                5        5        7        15       6\n",
            "G2                6        5        8        14      10\n",
            "G3                6        6       10        15      10\n",
            "\n",
            "-------------------------------------------------------\n",
            "\n",
            "-> Portuguese dataset\n",
            "                  0        1        2         3       4\n",
            "school           GP       GP       GP        GP      GP\n",
            "sex               F        F        F         F       F\n",
            "age              18       17       15        15      16\n",
            "address           U        U        U         U       U\n",
            "famsize         GT3      GT3      LE3       GT3     GT3\n",
            "Pstatus           A        T        T         T       T\n",
            "Medu              4        1        1         4       3\n",
            "Fedu              4        1        1         2       3\n",
            "Mjob        at_home  at_home  at_home    health   other\n",
            "Fjob        teacher    other    other  services   other\n",
            "reason       course   course    other      home    home\n",
            "guardian     mother   father   mother    mother  father\n",
            "traveltime        2        1        1         1       1\n",
            "studytime         2        2        2         3       2\n",
            "failures          0        0        0         0       0\n",
            "schoolsup       yes       no      yes        no      no\n",
            "famsup           no      yes       no       yes     yes\n",
            "paid             no       no       no        no      no\n",
            "activities       no       no       no       yes      no\n",
            "nursery         yes       no      yes       yes     yes\n",
            "higher          yes      yes      yes       yes     yes\n",
            "internet         no      yes      yes       yes      no\n",
            "romantic         no       no       no       yes      no\n",
            "famrel            4        5        4         3       4\n",
            "freetime          3        3        3         2       3\n",
            "goout             4        3        2         2       2\n",
            "Dalc              1        1        2         1       1\n",
            "Walc              1        1        3         1       2\n",
            "health            3        3        3         5       5\n",
            "absences          4        2        6         0       0\n",
            "G1                0        9       12        14      11\n",
            "G2               11       11       13        14      13\n",
            "G3               11       11       12        14      13\n"
          ]
        }
      ]
    },
    {
      "cell_type": "markdown",
      "source": [
        "Dataset source: https://archive.ics.uci.edu/dataset/320/student+performance"
      ],
      "metadata": {
        "id": "9KfY3XzUoX6t"
      }
    },
    {
      "cell_type": "markdown",
      "source": [
        "License: This dataset is licensed under a https://creativecommons.org/licenses/by/4.0/legalcode (CC BY 4.0) license."
      ],
      "metadata": {
        "id": "CxUnY43Nofwu"
      }
    }
  ]
}