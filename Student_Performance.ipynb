{
  "nbformat": 4,
  "nbformat_minor": 0,
  "metadata": {
    "colab": {
      "provenance": [],
      "toc_visible": true,
      "authorship_tag": "ABX9TyMh0Kq+RfAyu5md8pgN6Vg1",
      "include_colab_link": true
    },
    "kernelspec": {
      "name": "python3",
      "display_name": "Python 3"
    },
    "language_info": {
      "name": "python"
    }
  },
  "cells": [
    {
      "cell_type": "markdown",
      "metadata": {
        "id": "view-in-github",
        "colab_type": "text"
      },
      "source": [
        "<a href=\"https://colab.research.google.com/github/carlos-alves-one/-DV_CW2/blob/main/Student_Performance.ipynb\" target=\"_parent\"><img src=\"https://colab.research.google.com/assets/colab-badge.svg\" alt=\"Open In Colab\"/></a>"
      ]
    },
    {
      "cell_type": "markdown",
      "source": [
        "### Goldsmiths University of London\n",
        "### MSc. Data Science and Artificial Intelligence\n",
        "### Module: Data Visualization\n",
        "### Author: Carlos Manuel De Oliveira Alves\n",
        "### Student: cdeol003"
      ],
      "metadata": {
        "id": "PEzQmG-hf3HC"
      }
    },
    {
      "cell_type": "markdown",
      "source": [
        "# Data Source\n",
        "\n",
        "The dataset for this study on student performance in secondary education is sourced from the UCI Machine Learning Repository, specifically from the \"Student Performance Data Set\" available at [https://archive.ics.uci.edu/dataset/320/student+performance](https://archive.ics.uci.edu/dataset/320/student+performance). This repository is a well-known and respected source in the data science community, often used for academic and research purposes due to its diverse collection of high-quality datasets.\n",
        "\n",
        "### How the Data was Found:\n",
        "The dataset was selected due to its relevance to the research questions concerning secondary education student performance. The UCI Machine Learning Repository is a popular destination for researchers seeking datasets for various machine learning tasks, making it a natural choice for finding educational data.\n",
        "\n",
        "### Why the Data was Selected:\n",
        "- **Trustworthiness**: The UCI Machine Learning Repository has a reputation for hosting reliable and well-documented datasets. The student performance dataset, in particular, has been used in multiple academic studies, indicating its credibility.\n",
        "- **Validity**: The dataset includes a range of variables relevant to student performance, such as demographic information, social factors, and school-related attributes. This comprehensive nature makes it well-suited for a multifaceted analysis of factors affecting student achievement.\n",
        "\n",
        "### Initial Data Collection:\n",
        "The data was initially collected from two Portuguese schools for students in secondary education, covering performance in Mathematics and Portuguese language courses. It includes grades and demographic, social, and school-related features. This collection likely supported academic research on educational outcomes and their influencing factors.\n",
        "\n",
        "### Critical Assessment of the Data:\n",
        "- **Completeness**: The dataset appears comprehensive regarding the variety of factors it includes, which is beneficial for a thorough analysis. However, the scope is limited to two schools, which might restrict the generalizability of the findings.\n",
        "- **Accuracy**: Assuming the data was collected directly from school records, grade and demographic information accuracy should be high. However, data based on student self-reports, like social habits, might need more reliable.\n",
        "- **Consistency**: Consistency in data collection methods across both schools is critical for comparative analysis. Any discrepancies could introduce biases or inaccuracies in the findings.\n",
        "- **Bias and Potential Issues**:\n",
        "  - **Selection Bias**: Since the data is from only two schools, it may not represent the broader population of secondary school students in Portugal or other regions.\n",
        "  - **Reporting Bias**: Self-reported data, particularly regarding sensitive topics like alcohol consumption, may be subject to reporting Bias.\n",
        "  - **Cultural and Socio-Economic Context**: The data reflects the specific cultural and socio-economic environment of the schools involved, which might limit its applicability to different contexts.\n",
        "\n",
        "### Conclusion:\n",
        "While the UCI Machine Learning Repository dataset is valuable for its detail and range, caution must be exercised in interpreting the results. The potential issues and biases identified necessitate a critical approach to analysis and careful consideration of the study's scope and applicability."
      ],
      "metadata": {
        "id": "DOxzOhCNeYj8"
      }
    },
    {
      "cell_type": "markdown",
      "source": [
        "License: This dataset is licensed under a https://creativecommons.org/licenses/by/4.0/legalcode (CC BY 4.0) license."
      ],
      "metadata": {
        "id": "CxUnY43Nofwu"
      }
    },
    {
      "cell_type": "markdown",
      "source": [
        "# Introduction\n",
        "\n",
        "### **Analysis of Student Performance in Secondary Education:**\n",
        "\n",
        "This report presents a comprehensive analysis of student achievement in secondary education, focusing on two Portuguese schools. Utilizing detailed datasets covering both Mathematics and Portuguese language classes, the study examines a range of demographic, social, and academic factors to understand their impact on student performance. Derived from school reports and questionnaires, the datasets include grades across three academic periods (G1, G2, G3) alongside various student background characteristics.\n",
        "\n",
        "#### Structure of the Report\n",
        "1. **Data Overview**: We begin with an exploration of the datasets, highlighting key attributes such as student demographics, parental background, and academic records.\n",
        "2. **Descriptive Statistics**: An initial analysis provides insights into the general trends within the data, such as average grades and attendance.\n",
        "3. **Correlation Analysis**: We delve into the relationships between different factors, mainly focusing on how early-period grades (G1 and G2) correlate with final grades (G3).\n",
        "4. **Predictive Modeling**: The report presents models predicting final grades based on various variables, assessing their accuracy and utility.\n",
        "5. **Segmented Analysis**: We conduct a detailed examination of how different demographic groups, such as gender and age, as well as parental education levels, affect student performance.\n",
        "\n",
        "#### Key Findings\n",
        "- **Strong Predictive Power of Early Grades**: A significant correlation is observed between G1, G2, and the final year grade G3, underscoring the importance of consistent academic performance.\n",
        "- **Gender Disparities**: Female students consistently outperform male students in Mathematics and Portuguese.\n",
        "- **Influence of Age and Parental Education**: Younger students generally achieve higher grades, and a higher level of parental education, particularly the mother's, is associated with better student performance.\n",
        "- **Predictive Modeling Insights**: Models for both subjects show good predictive capabilities, with the model for Portuguese displaying an exceptionally high accuracy.\n",
        "\n",
        "This investigation aims to provide valuable insights into the factors influencing student achievement, aiding educators and policymakers in enhancing educational strategies and student support mechanisms."
      ],
      "metadata": {
        "id": "nE3GvusyptNA"
      }
    },
    {
      "cell_type": "markdown",
      "source": [
        "# Background\n",
        "\n",
        "###**Understanding Student Performance in Secondary Education:**\n",
        "\n",
        "The analysis of student performance in secondary education is a topic of ongoing interest and research, given its implications for educational policies and future academic and career success. This discussion draws upon existing research and recent news stories to contextualize our analysis of student performance in two Portuguese schools.\n",
        "\n",
        "#### Related Research\n",
        "1. **Academic Performance Predictors**: The study by Eyman Alyahyan et al. (2020) [1] has explored the predictors of academic performance, with a significant focus on data mining techniques for effective prediction. Common findings underscore the importance of early academic achievement, socioeconomic status, parental involvement, student demographics, e-learning activity, psychological attributes, and environmental factors. For instance, our observations align with the literature emphasizing the strong correlation between grades in early education (G1, G2, and G3) and future academic success. This multifaceted approach underlines the complex interplay of various factors in shaping academic outcomes.\n",
        "\n",
        "2. **Gender Differences in Education**: Research has consistently shown gender disparities in education, often favouring female students regarding grades and academic engagement. A publication by the OECD (2015) [2] discussed how these differences manifest across various countries and subjects, resonating with our finding that female students generally outperform males in Mathematics and Portuguese.\n",
        "\n",
        "3. **Parental Influence on Academic Achievement**: The influence of parental background, particularly education levels, has been extensively documented. A study by Jeynes (2007) in the \"Urban Education\" journal found [3] that parental education levels significantly impact student academic outcomes, aligning with our observations regarding the correlation between maternal education and student grades.\n",
        "\n",
        "#### Recent News Stories\n",
        "1. **Educational Trends in Portugal**: Recent news from sources like \"The Portugal News\" [4] highlights the evolving educational landscape in Portugal, focusing on government initiatives to address educational disparities and improve overall academic performance. These stories provide a real-world context for our analysis, demonstrating the practical implications of understanding factors influencing student achievement.\n",
        "\n",
        "2. **Global Shifts in Education During the Pandemic**: The COVID-19 pandemic brought significant changes to education systems worldwide. Reports from various media outlets, including \"Al Jazeera\" [5] and others have discussed the challenges and transformations in education during this period, such as the shift to online learning and its impact on student performance. These developments underscore the importance of continuous analysis and adaptation in education strategies.\n",
        "\n",
        "3. **Focus on STEM Education and Gender**: There is an increasing focus on STEM (Science et al.) education, particularly in encouraging female participation. The report by the American Association of University Women (AAUW) [6] reflect global efforts to bridge gender gaps in STEM, relevant to our findings of gender differences in Mathematics performance.\n",
        "\n",
        "The background research and news stories provide a broader context for our analysis, highlighting the relevance and practical application of understanding various factors that influence student performance in secondary education."
      ],
      "metadata": {
        "id": "4EA7GCxdq1ba"
      }
    },
    {
      "cell_type": "markdown",
      "source": [
        "# Motivation\n",
        "\n",
        "The motivation for this study on student performance in secondary education at two Portuguese schools lies in the critical need to understand the various factors influencing academic success. By delving into student grades, demographic, social, and school-related features, this investigation aims to uncover the underlying patterns and relationships that drive student achievement in Mathematics and Portuguese language courses.\n",
        "\n",
        "Critical motivations for this project include:\n",
        "\n",
        "1. **Enhancing Educational Strategies**: Insights from this study could inform teachers, school administrators, and policymakers about effective strategies to enhance student learning. Understanding student performance factors can lead to more tailored and impactful educational interventions.\n",
        "\n",
        "2. **Identifying At-Risk Students**: Early identification of students likely to underperform could enable proactive support. By analyzing the correlations between grades in different academic periods and other attributes, educators can develop targeted programs to assist students who might struggle.\n",
        "\n",
        "3. **Improving Resource Allocation**: Schools often operate under limited resources. Data-driven insights from this study can help efficiently allocate these resources, ensuring they are directed towards programs and initiatives that have the most significant impact on student performance.\n",
        "\n",
        "4. **Understanding Socio-Economic Impacts**: The study will explore how demographic and social factors, such as family background and extracurricular activities, influence academic achievement. This understanding is crucial in addressing educational disparities and promoting equity in education.\n",
        "\n",
        "5. **Informing Curriculum Development**: By understanding which aspects of the curriculum correlate with higher student performance, educators can refine and adapt curricular content to meet students' needs and interests better.\n",
        "\n",
        "6. **Long-Term Academic and Career Success**: Uncovering the predictors of academic success in secondary education can have long-lasting implications on students' future academic and career paths. Insights from this study can help shape programs that improve immediate academic performance and contribute to long-term success.\n",
        "\n",
        "7. **Practical Utility in Independent Prediction**: Predicting final year grades independently of prior period grades (G3 without G1 and G2) offers a significant challenge and a more excellent practical utility. Achieving this would provide a more robust understanding of the factors influencing student performance, independent of their earlier academic record.\n",
        "\n",
        "The potential impact of this study is substantial, offering a data-driven foundation for enhancing student outcomes and contributing to the broader field of educational research."
      ],
      "metadata": {
        "id": "IvNJA5j7bs9r"
      }
    },
    {
      "cell_type": "markdown",
      "source": [
        "# Research Questions\n",
        "\n",
        "The research questions for this study on student performance in secondary education at two Portuguese schools are informed by previous research in educational psychology, sociology of education, and data science. These questions are designed to explore the complex interplay between various factors and student achievement, drawing from established theories such as Bronfenbrenner's Ecological Systems Theory [7], which emphasizes the influence of multiple environmental systems on development, and educational theories that focus on the impact of socioeconomic status, school environment, and individual characteristics on learning outcomes.\n",
        "\n",
        "1. **Demographic Factors and Student Performance:**\n",
        "\n",
        "    - How do demographic factors such as age, gender, and family background influence students' performance in Mathematics and Portuguese language courses?\n",
        "\n",
        "    - This question investigates the role of inherent demographic factors and family background in shaping academic outcomes based on theories that highlight the influence of socioeconomic status and family environment on educational achievement.\n",
        "\n",
        "    - Citation: Sirin, S. R. (2005). Socioeconomic status and academic achievement: A meta-analytic review of research. Review of Educational Research, 75(3), 417-453 [8]. This study provides a comprehensive analysis of the impact of socioeconomic status on academic achievement.\n",
        "\n",
        "2. **Social Behaviors and Academic Performance:**\n",
        "\n",
        "   - What is the relationship between students' social behaviors (like going out with friends, alcohol consumption) and their academic performance?\n",
        "\n",
        "   - This explores the impact of lifestyle and social choices on academic success, referencing research that links extracurricular activities and social behaviours with academic outcomes.\n",
        "\n",
        "   - Citation: Mahoney, J. L., & Cairns, R. B. (1997). Do extracurricular activities protect against early school dropout? Developmental Psychology, 33(2), 241-253 [9]. This paper explores how extracurricular activities impact educational outcomes.\n",
        "\n",
        "3. **School-Related Factors and Grades:**\n",
        "\n",
        "   - How do school-related factors such as study time, past failures, and school support services affect student grades?\n",
        "\n",
        "   - This question focuses on the direct educational environment's impact, considering the role of study habits, past academic experiences, and institutional support in student achievement.\n",
        "\n",
        "   - Citation: Hattie, J. (2008). Visible learning: A synthesis of over 800 meta-analyses relating to achievement. Routledge [10]. This book synthesizes research on the impact of various educational strategies on student achievement.\n",
        "\n",
        "4. **Correlation Between Early and Final Grades:**\n",
        "\n",
        "   - Is there a significant correlation between the grades obtained in the first two academic periods (G1 and G2) and the final year grade (G3)?\n",
        "\n",
        "   - Grounded in the theoretical framework that prior performance indicates future success, this question examines the predictive power of earlier grades on outcomes.\n",
        "\n",
        "   - Citation: Cortez and Silva (2008). Using Data Mining to Predict Secondary School Student Performance [11]. This foundational study for this project provides a direct basis for investigating the correlation between early and final grades.\n",
        "\n",
        "5. **Predicting Final Year Performance:**\n",
        "\n",
        "   - Can student performance in the final year (G3) be accurately predicted without considering grades from the first two periods (G1 and G2)?\n",
        "\n",
        "   - This research question challenges the conventional reliance on past academic performance as a predictor of future success, seeking to identify other significant predictors of final-year performance.\n",
        "\n",
        "   - Citation: Deary, I. J., Strand, S., Smith, P., & Fernandes, C. (2007). Intelligence and educational achievement. Intelligence, 35(1), 13-21 [12]. This study discusses the complexities of predicting academic performance.\n",
        "\n",
        "6. **Subject-Specific Performance Patterns:**\n",
        "\n",
        "   - What patterns emerge from the comparison of student performance in Mathematics and Portuguese language, and what might explain these differences?\n",
        "   \n",
        "   - This question aims to uncover subject-specific factors influencing academic achievement, contributing to curriculum development and teaching strategies tailored to different disciplines.\n",
        "\n",
        "   - Citation: Voyer, D., & Voyer, S. D. (2014). Gender differences in scholastic achievement: A meta-analysis. Psychological Bulletin, 140(4), 1174-1204 [13]. This meta-analysis provides insights into subject-specific academic performance differences.\n",
        "\n",
        "7. **Impact of Extra-Curricular Activities:**\n",
        "\n",
        "   - How do extra-curricular activities and personal interests impact academic performance in secondary education?\n",
        "\n",
        "   - Investigating the role of non-academic pursuits, this question aligns with theories that emphasize the holistic development of learners and the impact of a well-rounded educational experience on academic success.\n",
        "\n",
        "   - Citation: Eccles, J. S., & Barber, B. L. (1999). Student council, volunteering, basketball, or marching band: What kind of extracurricular involvement matters? Journal of Adolescent Research, 14(1), 10-43 [14]. This research examines the influence of various extracurricular activities on academic success.\n",
        "\n",
        "\n",
        "These research questions are designed to dissect the multifaceted nature of educational achievement, providing a comprehensive understanding of the factors contributing to student success in secondary education."
      ],
      "metadata": {
        "id": "6IzhcPECgt99"
      }
    },
    {
      "cell_type": "markdown",
      "source": [
        "# Data Pre-Processing"
      ],
      "metadata": {
        "id": "H9_y0aDxiGmp"
      }
    },
    {
      "cell_type": "markdown",
      "source": [
        "## Load the Data"
      ],
      "metadata": {
        "id": "faGdoDPxl54G"
      }
    },
    {
      "cell_type": "code",
      "source": [
        "# Imports the 'drive' module from 'google.colab' and mounts the Google Drive to\n",
        "# the '/content/drive' directory in the Colab environment.\n",
        "from google.colab import drive\n",
        "drive.mount('/content/drive')\n"
      ],
      "metadata": {
        "colab": {
          "base_uri": "https://localhost:8080/"
        },
        "id": "17huUYKol6lG",
        "outputId": "594f5c0b-a17a-4fb0-d9e3-932c420a8fe5"
      },
      "execution_count": 1,
      "outputs": [
        {
          "output_type": "stream",
          "name": "stdout",
          "text": [
            "Drive already mounted at /content/drive; to attempt to forcibly remount, call drive.mount(\"/content/drive\", force_remount=True).\n"
          ]
        }
      ]
    },
    {
      "cell_type": "markdown",
      "source": [
        "- Use pandas.read_csv() to load the datasets"
      ],
      "metadata": {
        "id": "QvIMxriOiw6r"
      }
    },
    {
      "cell_type": "code",
      "source": [
        "# Importing the pandas library\n",
        "import pandas as pd\n",
        "\n",
        "# Loading the datasets using pandas\n",
        "math_data = pd.read_csv('/content/drive/MyDrive/student/student-mat.csv', sep=';')\n",
        "portuguese_data = pd.read_csv('/content/drive/MyDrive/student/student-por.csv', sep=';')\n"
      ],
      "metadata": {
        "id": "cFdw0bzqnOqO"
      },
      "execution_count": 2,
      "outputs": []
    },
    {
      "cell_type": "markdown",
      "source": [
        "## Inspect the Data"
      ],
      "metadata": {
        "id": "ww-DUtYTiTky"
      }
    },
    {
      "cell_type": "markdown",
      "source": [
        "- Use data.head() to view the first three rows of the datasets\n",
        "- Use data.info() to get an overview of the data types and missing values"
      ],
      "metadata": {
        "id": "LJTMd5UXlJq-"
      }
    },
    {
      "cell_type": "code",
      "source": [
        "# Initial Examination\n",
        "print(\"\\n-> Math Dataset:\")\n",
        "print(math_data.head(3).T)\n",
        "print(\"\\n-------------------------------------\")\n",
        "print(\"\\n-> Portuguese Dataset:\")\n",
        "print(portuguese_data.head(3).T)\n",
        "print(\"\\n---------------------------------------\")\n",
        "print(math_data.info())\n",
        "print(\"\\n---------------------------------------\")\n",
        "print(portuguese_data.info())\n"
      ],
      "metadata": {
        "colab": {
          "base_uri": "https://localhost:8080/"
        },
        "id": "aXXR_bTyi9zO",
        "outputId": "3e808324-2cfc-41d4-a14b-0dab467c332f"
      },
      "execution_count": 3,
      "outputs": [
        {
          "output_type": "stream",
          "name": "stdout",
          "text": [
            "\n",
            "-> Math Dataset:\n",
            "                  0        1        2\n",
            "school           GP       GP       GP\n",
            "sex               F        F        F\n",
            "age              18       17       15\n",
            "address           U        U        U\n",
            "famsize         GT3      GT3      LE3\n",
            "Pstatus           A        T        T\n",
            "Medu              4        1        1\n",
            "Fedu              4        1        1\n",
            "Mjob        at_home  at_home  at_home\n",
            "Fjob        teacher    other    other\n",
            "reason       course   course    other\n",
            "guardian     mother   father   mother\n",
            "traveltime        2        1        1\n",
            "studytime         2        2        2\n",
            "failures          0        0        3\n",
            "schoolsup       yes       no      yes\n",
            "famsup           no      yes       no\n",
            "paid             no       no      yes\n",
            "activities       no       no       no\n",
            "nursery         yes       no      yes\n",
            "higher          yes      yes      yes\n",
            "internet         no      yes      yes\n",
            "romantic         no       no       no\n",
            "famrel            4        5        4\n",
            "freetime          3        3        3\n",
            "goout             4        3        2\n",
            "Dalc              1        1        2\n",
            "Walc              1        1        3\n",
            "health            3        3        3\n",
            "absences          6        4       10\n",
            "G1                5        5        7\n",
            "G2                6        5        8\n",
            "G3                6        6       10\n",
            "\n",
            "-------------------------------------\n",
            "\n",
            "-> Portuguese Dataset:\n",
            "                  0        1        2\n",
            "school           GP       GP       GP\n",
            "sex               F        F        F\n",
            "age              18       17       15\n",
            "address           U        U        U\n",
            "famsize         GT3      GT3      LE3\n",
            "Pstatus           A        T        T\n",
            "Medu              4        1        1\n",
            "Fedu              4        1        1\n",
            "Mjob        at_home  at_home  at_home\n",
            "Fjob        teacher    other    other\n",
            "reason       course   course    other\n",
            "guardian     mother   father   mother\n",
            "traveltime        2        1        1\n",
            "studytime         2        2        2\n",
            "failures          0        0        0\n",
            "schoolsup       yes       no      yes\n",
            "famsup           no      yes       no\n",
            "paid             no       no       no\n",
            "activities       no       no       no\n",
            "nursery         yes       no      yes\n",
            "higher          yes      yes      yes\n",
            "internet         no      yes      yes\n",
            "romantic         no       no       no\n",
            "famrel            4        5        4\n",
            "freetime          3        3        3\n",
            "goout             4        3        2\n",
            "Dalc              1        1        2\n",
            "Walc              1        1        3\n",
            "health            3        3        3\n",
            "absences          4        2        6\n",
            "G1                0        9       12\n",
            "G2               11       11       13\n",
            "G3               11       11       12\n",
            "\n",
            "---------------------------------------\n",
            "<class 'pandas.core.frame.DataFrame'>\n",
            "RangeIndex: 395 entries, 0 to 394\n",
            "Data columns (total 33 columns):\n",
            " #   Column      Non-Null Count  Dtype \n",
            "---  ------      --------------  ----- \n",
            " 0   school      395 non-null    object\n",
            " 1   sex         395 non-null    object\n",
            " 2   age         395 non-null    int64 \n",
            " 3   address     395 non-null    object\n",
            " 4   famsize     395 non-null    object\n",
            " 5   Pstatus     395 non-null    object\n",
            " 6   Medu        395 non-null    int64 \n",
            " 7   Fedu        395 non-null    int64 \n",
            " 8   Mjob        395 non-null    object\n",
            " 9   Fjob        395 non-null    object\n",
            " 10  reason      395 non-null    object\n",
            " 11  guardian    395 non-null    object\n",
            " 12  traveltime  395 non-null    int64 \n",
            " 13  studytime   395 non-null    int64 \n",
            " 14  failures    395 non-null    int64 \n",
            " 15  schoolsup   395 non-null    object\n",
            " 16  famsup      395 non-null    object\n",
            " 17  paid        395 non-null    object\n",
            " 18  activities  395 non-null    object\n",
            " 19  nursery     395 non-null    object\n",
            " 20  higher      395 non-null    object\n",
            " 21  internet    395 non-null    object\n",
            " 22  romantic    395 non-null    object\n",
            " 23  famrel      395 non-null    int64 \n",
            " 24  freetime    395 non-null    int64 \n",
            " 25  goout       395 non-null    int64 \n",
            " 26  Dalc        395 non-null    int64 \n",
            " 27  Walc        395 non-null    int64 \n",
            " 28  health      395 non-null    int64 \n",
            " 29  absences    395 non-null    int64 \n",
            " 30  G1          395 non-null    int64 \n",
            " 31  G2          395 non-null    int64 \n",
            " 32  G3          395 non-null    int64 \n",
            "dtypes: int64(16), object(17)\n",
            "memory usage: 102.0+ KB\n",
            "None\n",
            "\n",
            "---------------------------------------\n",
            "<class 'pandas.core.frame.DataFrame'>\n",
            "RangeIndex: 649 entries, 0 to 648\n",
            "Data columns (total 33 columns):\n",
            " #   Column      Non-Null Count  Dtype \n",
            "---  ------      --------------  ----- \n",
            " 0   school      649 non-null    object\n",
            " 1   sex         649 non-null    object\n",
            " 2   age         649 non-null    int64 \n",
            " 3   address     649 non-null    object\n",
            " 4   famsize     649 non-null    object\n",
            " 5   Pstatus     649 non-null    object\n",
            " 6   Medu        649 non-null    int64 \n",
            " 7   Fedu        649 non-null    int64 \n",
            " 8   Mjob        649 non-null    object\n",
            " 9   Fjob        649 non-null    object\n",
            " 10  reason      649 non-null    object\n",
            " 11  guardian    649 non-null    object\n",
            " 12  traveltime  649 non-null    int64 \n",
            " 13  studytime   649 non-null    int64 \n",
            " 14  failures    649 non-null    int64 \n",
            " 15  schoolsup   649 non-null    object\n",
            " 16  famsup      649 non-null    object\n",
            " 17  paid        649 non-null    object\n",
            " 18  activities  649 non-null    object\n",
            " 19  nursery     649 non-null    object\n",
            " 20  higher      649 non-null    object\n",
            " 21  internet    649 non-null    object\n",
            " 22  romantic    649 non-null    object\n",
            " 23  famrel      649 non-null    int64 \n",
            " 24  freetime    649 non-null    int64 \n",
            " 25  goout       649 non-null    int64 \n",
            " 26  Dalc        649 non-null    int64 \n",
            " 27  Walc        649 non-null    int64 \n",
            " 28  health      649 non-null    int64 \n",
            " 29  absences    649 non-null    int64 \n",
            " 30  G1          649 non-null    int64 \n",
            " 31  G2          649 non-null    int64 \n",
            " 32  G3          649 non-null    int64 \n",
            "dtypes: int64(16), object(17)\n",
            "memory usage: 167.4+ KB\n",
            "None\n"
          ]
        }
      ]
    },
    {
      "cell_type": "markdown",
      "source": [
        "## Datasets Analyses\n",
        "\n",
        "> ## Analyzing the Math dataset, we observe the following characteristics and potential areas of exploration:\n",
        "\n",
        "1. **General Overview**: The dataset contains 395 entries, each representing a student. It has 33 columns, including categorical (object type) and numerical (int64 type) data.\n",
        "\n",
        "2. **Categorical Data**: These are the 'object' type columns in the dataset, which include information like school, sex, address, family size, parent's job, reason for choosing the school, and more. These categorical variables can be used to analyze patterns and relationships in students' backgrounds and choices.\n",
        "\n",
        "3. **Numerical Data**: These are the 'int64' type columns that provide quantitative information about the students. This includes age, parents' education level (Medu, Fedu), travel time to school, study time, number of past class failures, family relationships, free time, going out frequency, alcohol consumption (weekday and weekend), health status, number of school absences, and grades (G1, G2, G3).\n",
        "\n",
        "4. **Potential Analyses**:\n",
        "   - **Demographic Analysis**: Explore distributions of age, sex, address (urban/rural), and family size.\n",
        "   - **Educational Factors**: Examine the relationship between students' grades (G1, G2, G3) and variables like parents' education level, study time, school support, and number of failures.\n",
        "   - **Social Factors**: Investigate how family relationships, free time, going out, and romantic relationships impact academic performance.\n",
        "   - **Health and Lifestyle Factors**: Look into the impact of health status and alcohol consumption on students' academic achievements and attendance (absences).\n",
        "\n",
        "5. **Memory Usage**: The dataset uses 102.0 KB of memory, indicating a moderate size that should be manageable for most data analysis tools.\n",
        "\n",
        "6. **Data Quality**: All columns have 395 non-null entries, suggesting no missing values in this dataset, which is beneficial for analysis.\n",
        "\n",
        "> ## Analyzing the Portuguese dataset, we observe the following characteristics and potential areas of exploration:\n",
        "\n",
        "1. **General Overview**: The dataset comprises 649 entries, each representing a student. It includes 33 columns, encompassing both categorical (object type) and numerical (int64 type) data.\n",
        "\n",
        "2. **Categorical Data**: These columns are of the 'object' type and provide information on various aspects such as the school, sex, address, family size, parents' job, reasons for choosing the school, and more. These variables can be analyzed to discern trends and correlations in the backgrounds and choices of the students.\n",
        "\n",
        "3. **Numerical Data**: These 'int64' type columns include quantitative data about the students, such as age, parents' education level (Medu, Fedu), travel time, study time, past class failures, family relationships, free time, going out frequency, alcohol consumption (Dalc for weekdays and Walc for weekends), health status, number of absences, and grades (G1, G2, G3).\n",
        "\n",
        "4. **Potential Analyses**:\n",
        "   - **Demographic Analysis**: Investigate the distribution of variables like age, sex, address (urban vs. rural), and family size.\n",
        "   - **Educational Factors**: Analyze how students' grades (G1, G2, G3) are influenced by factors such as parents' education, study time, school support, and failure rates.\n",
        "   - **Social and Lifestyle Factors**: Examine the impact of family relationships, free time, social activities, romantic involvement, and lifestyle choices (like alcohol consumption) on students' academic performance.\n",
        "   - **Health and Attendance**: Look into how health status and school absences correlate with academic achievements.\n",
        "\n",
        "5. **Memory Usage**: The dataset consumes 167.4 KB of memory, which is slightly larger than the previous dataset but still manageable for typical data analysis tools.\n",
        "\n",
        "6. **Data Quality**: No null entries in any of the columns indicate a complete dataset without missing values, facilitating a more robust analysis.\n",
        "\n",
        "To gain insights from this datasets, statistical analyses, including correlation studies, regression models, and various forms of data visualization, would be beneficial. These analyses can reveal underlying patterns and relationships between the students' academic performances and socio-economic, demographic, and lifestyle factors."
      ],
      "metadata": {
        "id": "M7PrugdwuNKq"
      }
    },
    {
      "cell_type": "markdown",
      "source": [
        "## Data Cleaning\n",
        "\n",
        "- Look for any inconsistencies or inaccuracies, such as unusual values or typos.\n",
        "- Handle them by either correcting or removing the erroneous data."
      ],
      "metadata": {
        "id": "q95fAVZOyTGz"
      }
    },
    {
      "cell_type": "markdown",
      "source": [
        "### Statistical Summary\n",
        "\n",
        "Generate a statistical summary for the numerical columns to understand their distribution, such as mean, standard deviation, and potential outliers. We will also examine the unique values in the categorical columns to check for any inconsistencies or typos."
      ],
      "metadata": {
        "id": "JnNhigHs585q"
      }
    },
    {
      "cell_type": "code",
      "source": [
        "# Statistical summary of the numerical columns\n",
        "print(math_data.describe())\n",
        "print(portuguese_data.describe())\n",
        "\n",
        "# Checking unique values in categorical columns\n",
        "cat_columns_mat = math_data.select_dtypes(include=['object']).columns\n",
        "unique_values_mat = {col: math_data[col].unique() for col in cat_columns_mat}\n",
        "\n",
        "cat_columns_por = portuguese_data.select_dtypes(include=['object']).columns\n",
        "unique_values_por = {col: portuguese_data[col].unique() for col in cat_columns_por}\n",
        "\n",
        "# Print unique values (optional)\n",
        "print(unique_values_mat)\n",
        "print(unique_values_por)\n"
      ],
      "metadata": {
        "colab": {
          "base_uri": "https://localhost:8080/"
        },
        "id": "1ncpnsR2yYum",
        "outputId": "66cbb0a8-274e-49a7-99fe-3e361e67ab10"
      },
      "execution_count": 4,
      "outputs": [
        {
          "output_type": "stream",
          "name": "stdout",
          "text": [
            "              age        Medu        Fedu  traveltime   studytime    failures  \\\n",
            "count  395.000000  395.000000  395.000000  395.000000  395.000000  395.000000   \n",
            "mean    16.696203    2.749367    2.521519    1.448101    2.035443    0.334177   \n",
            "std      1.276043    1.094735    1.088201    0.697505    0.839240    0.743651   \n",
            "min     15.000000    0.000000    0.000000    1.000000    1.000000    0.000000   \n",
            "25%     16.000000    2.000000    2.000000    1.000000    1.000000    0.000000   \n",
            "50%     17.000000    3.000000    2.000000    1.000000    2.000000    0.000000   \n",
            "75%     18.000000    4.000000    3.000000    2.000000    2.000000    0.000000   \n",
            "max     22.000000    4.000000    4.000000    4.000000    4.000000    3.000000   \n",
            "\n",
            "           famrel    freetime       goout        Dalc        Walc      health  \\\n",
            "count  395.000000  395.000000  395.000000  395.000000  395.000000  395.000000   \n",
            "mean     3.944304    3.235443    3.108861    1.481013    2.291139    3.554430   \n",
            "std      0.896659    0.998862    1.113278    0.890741    1.287897    1.390303   \n",
            "min      1.000000    1.000000    1.000000    1.000000    1.000000    1.000000   \n",
            "25%      4.000000    3.000000    2.000000    1.000000    1.000000    3.000000   \n",
            "50%      4.000000    3.000000    3.000000    1.000000    2.000000    4.000000   \n",
            "75%      5.000000    4.000000    4.000000    2.000000    3.000000    5.000000   \n",
            "max      5.000000    5.000000    5.000000    5.000000    5.000000    5.000000   \n",
            "\n",
            "         absences          G1          G2          G3  \n",
            "count  395.000000  395.000000  395.000000  395.000000  \n",
            "mean     5.708861   10.908861   10.713924   10.415190  \n",
            "std      8.003096    3.319195    3.761505    4.581443  \n",
            "min      0.000000    3.000000    0.000000    0.000000  \n",
            "25%      0.000000    8.000000    9.000000    8.000000  \n",
            "50%      4.000000   11.000000   11.000000   11.000000  \n",
            "75%      8.000000   13.000000   13.000000   14.000000  \n",
            "max     75.000000   19.000000   19.000000   20.000000  \n",
            "              age        Medu        Fedu  traveltime   studytime    failures  \\\n",
            "count  649.000000  649.000000  649.000000  649.000000  649.000000  649.000000   \n",
            "mean    16.744222    2.514638    2.306626    1.568567    1.930663    0.221880   \n",
            "std      1.218138    1.134552    1.099931    0.748660    0.829510    0.593235   \n",
            "min     15.000000    0.000000    0.000000    1.000000    1.000000    0.000000   \n",
            "25%     16.000000    2.000000    1.000000    1.000000    1.000000    0.000000   \n",
            "50%     17.000000    2.000000    2.000000    1.000000    2.000000    0.000000   \n",
            "75%     18.000000    4.000000    3.000000    2.000000    2.000000    0.000000   \n",
            "max     22.000000    4.000000    4.000000    4.000000    4.000000    3.000000   \n",
            "\n",
            "           famrel    freetime       goout        Dalc        Walc      health  \\\n",
            "count  649.000000  649.000000  649.000000  649.000000  649.000000  649.000000   \n",
            "mean     3.930663    3.180277    3.184900    1.502311    2.280431    3.536210   \n",
            "std      0.955717    1.051093    1.175766    0.924834    1.284380    1.446259   \n",
            "min      1.000000    1.000000    1.000000    1.000000    1.000000    1.000000   \n",
            "25%      4.000000    3.000000    2.000000    1.000000    1.000000    2.000000   \n",
            "50%      4.000000    3.000000    3.000000    1.000000    2.000000    4.000000   \n",
            "75%      5.000000    4.000000    4.000000    2.000000    3.000000    5.000000   \n",
            "max      5.000000    5.000000    5.000000    5.000000    5.000000    5.000000   \n",
            "\n",
            "         absences          G1          G2          G3  \n",
            "count  649.000000  649.000000  649.000000  649.000000  \n",
            "mean     3.659476   11.399076   11.570108   11.906009  \n",
            "std      4.640759    2.745265    2.913639    3.230656  \n",
            "min      0.000000    0.000000    0.000000    0.000000  \n",
            "25%      0.000000   10.000000   10.000000   10.000000  \n",
            "50%      2.000000   11.000000   11.000000   12.000000  \n",
            "75%      6.000000   13.000000   13.000000   14.000000  \n",
            "max     32.000000   19.000000   19.000000   19.000000  \n",
            "{'school': array(['GP', 'MS'], dtype=object), 'sex': array(['F', 'M'], dtype=object), 'address': array(['U', 'R'], dtype=object), 'famsize': array(['GT3', 'LE3'], dtype=object), 'Pstatus': array(['A', 'T'], dtype=object), 'Mjob': array(['at_home', 'health', 'other', 'services', 'teacher'], dtype=object), 'Fjob': array(['teacher', 'other', 'services', 'health', 'at_home'], dtype=object), 'reason': array(['course', 'other', 'home', 'reputation'], dtype=object), 'guardian': array(['mother', 'father', 'other'], dtype=object), 'schoolsup': array(['yes', 'no'], dtype=object), 'famsup': array(['no', 'yes'], dtype=object), 'paid': array(['no', 'yes'], dtype=object), 'activities': array(['no', 'yes'], dtype=object), 'nursery': array(['yes', 'no'], dtype=object), 'higher': array(['yes', 'no'], dtype=object), 'internet': array(['no', 'yes'], dtype=object), 'romantic': array(['no', 'yes'], dtype=object)}\n",
            "{'school': array(['GP', 'MS'], dtype=object), 'sex': array(['F', 'M'], dtype=object), 'address': array(['U', 'R'], dtype=object), 'famsize': array(['GT3', 'LE3'], dtype=object), 'Pstatus': array(['A', 'T'], dtype=object), 'Mjob': array(['at_home', 'health', 'other', 'services', 'teacher'], dtype=object), 'Fjob': array(['teacher', 'other', 'services', 'health', 'at_home'], dtype=object), 'reason': array(['course', 'other', 'home', 'reputation'], dtype=object), 'guardian': array(['mother', 'father', 'other'], dtype=object), 'schoolsup': array(['yes', 'no'], dtype=object), 'famsup': array(['no', 'yes'], dtype=object), 'paid': array(['no', 'yes'], dtype=object), 'activities': array(['no', 'yes'], dtype=object), 'nursery': array(['yes', 'no'], dtype=object), 'higher': array(['yes', 'no'], dtype=object), 'internet': array(['no', 'yes'], dtype=object), 'romantic': array(['no', 'yes'], dtype=object)}\n"
          ]
        }
      ]
    },
    {
      "cell_type": "markdown",
      "source": [
        "### General Observations Across Both Datasets\n",
        "1. **Age Range and Average**: Students in both datasets are in their mid to late teens (15-22 years), with a slightly higher average age in the second dataset (16.74 years) compared to the first (16.69 years).\n",
        "2. **Parental Education (Medu and Fedu)**: The mean values suggest that parents in the first dataset are generally more educated than those in the second dataset. The maximum value for mothers' and fathers' education is 4 in both datasets.\n",
        "3. **Study Time and Failures**: The first dataset shows a higher average of study time and failures. This could indicate either a more challenging curriculum or different evaluation standards.\n",
        "4. **Personal and Health Attributes (famrel, freetime, goout, Dalc, Walc, health)**: The averages of family relationship quality, free time, going out, weekday and weekend alcohol consumption, and health are similar in both datasets. The maximum value for all these attributes is 5, indicating a possible Likert scale measurement.\n",
        "\n",
        "### Specific Observations for Each Dataset\n",
        "1. **First Dataset (Count: 395)**\n",
        "   - **Travel Time**: The average travel time is lower than the second dataset.\n",
        "   - **Absences and Grades (G1, G2, G3)**: There is a higher average number of absences and slightly lower average grades.\n",
        "   - **Standard Deviations**: Higher standard deviations in absences and grades suggest more variability in these areas.\n",
        "\n",
        "2. **Second Dataset (Count: 649)**\n",
        "   - **Travel Time**: Students have a higher average travel time.\n",
        "   - **Absences and Grades (G1, G2, G3)**: Students have fewer absences on average and slightly higher grades.\n",
        "   - **Standard Deviations**: Lower standard deviations in grades, indicating more consistency.\n",
        "\n",
        "### Categorical Variables\n",
        "Both datasets include categorical variables such as school type, gender, address, family size, parent's job, reason for choosing the school, guardian, and various supports and activities. These variables can provide additional context for understanding differences in the numerical data.\n",
        "\n",
        "### Overall Insights\n",
        "- The parental education levels, travel times, study habits, and academic performance differences suggest that the two datasets likely represent different populations or school environments.\n",
        "- The consistency in personal attributes and health across both datasets indicates similar student lifestyles or attitudes, regardless of the school type or other differentiating factors.\n",
        "- The variability in grades and absences, particularly in the first dataset, suggests a need to explore factors influencing academic performance and attendance."
      ],
      "metadata": {
        "id": "V7uPGm2q7PXt"
      }
    },
    {
      "cell_type": "markdown",
      "source": [
        "### Handle Outliers\n",
        "\n",
        "Address the potential outliers in the absences column. We will use boxplots to visualize these outliers and then cap them at a specific threshold calculated using the Interquartile Range (IQR) method."
      ],
      "metadata": {
        "id": "DhpbdaZI-Bw1"
      }
    },
    {
      "cell_type": "code",
      "source": [
        "# Import MATLAB-like interface for making plots and charts\n",
        "import matplotlib.pyplot as plt\n",
        "\n",
        "# Import Seaborn for data visualization with more attractive interface for creating statistical graphics\n",
        "import seaborn as sns\n",
        "\n",
        "# Plotting boxplots for the 'absences' column\n",
        "plt.figure(figsize=(12, 6))\n",
        "plt.subplot(1, 2, 1)\n",
        "sns.boxplot(math_data['absences'])\n",
        "plt.title('Boxplot of Absences in student-mat.csv')\n",
        "\n",
        "plt.subplot(1, 2, 2)\n",
        "sns.boxplot(portuguese_data['absences'])\n",
        "plt.title('Boxplot of Absences in student-por.csv')\n",
        "plt.show()\n",
        "\n",
        "# Calculate IQR for 'absences'\n",
        "Q1_mat = math_data['absences'].quantile(0.25)\n",
        "Q3_mat = math_data['absences'].quantile(0.75)\n",
        "IQR_mat = Q3_mat - Q1_mat\n",
        "threshold_mat = Q3_mat + 1.5 * IQR_mat\n",
        "\n",
        "Q1_por = portuguese_data['absences'].quantile(0.25)\n",
        "Q3_por = portuguese_data['absences'].quantile(0.75)\n",
        "IQR_por = Q3_por - Q1_por\n",
        "threshold_por = Q3_por + 1.5 * IQR_por\n",
        "\n",
        "# Capping outliers\n",
        "math_data['absences'] = math_data['absences'].clip(upper=threshold_mat)\n",
        "portuguese_data['absences'] = portuguese_data['absences'].clip(upper=threshold_por)\n",
        "\n",
        "# Print thresholds\n",
        "print(\"\\n-> Threshold for absences in student-mat.csv:\", threshold_mat)\n",
        "print(\"\\n-> Threshold for absences in student-por.csv:\", threshold_por)\n"
      ],
      "metadata": {
        "colab": {
          "base_uri": "https://localhost:8080/",
          "height": 616
        },
        "id": "SluBWONJ-RF8",
        "outputId": "bbef9cc4-fd33-4bf3-ea4d-c44efbd89672"
      },
      "execution_count": 5,
      "outputs": [
        {
          "output_type": "display_data",
          "data": {
            "text/plain": [
              "<Figure size 1200x600 with 2 Axes>"
            ],
            "image/png": "[encoded data removed]"
          },
          "metadata": {}
        },
        {
          "output_type": "stream",
          "name": "stdout",
          "text": [
            "\n",
            "-> Threshold for absences in student-mat.csv: 20.0\n",
            "\n",
            "-> Threshold for absences in student-por.csv: 15.0\n"
          ]
        }
      ]
    },
    {
      "cell_type": "markdown",
      "source": [
        "The outliers in the absences column have been addressed using boxplots and the Interquartile Range (IQR) method. The calculated thresholds for capping outliers are:\n",
        "\n",
        "    student-mat.csv: 20.0\n",
        "    student-por.csv: 15.0\n",
        "\n",
        "Outliers beyond these values have been capped."
      ],
      "metadata": {
        "id": "eP2TLyf5BO5a"
      }
    },
    {
      "cell_type": "markdown",
      "source": [
        "### Save the Cleaned Data\n",
        "\n",
        "Finally, it is good practice to save the cleaned and processed data. This allows easy access to the cleaned datasets for further analysis or modelling. We will save the cleaned datasets to new CSV files."
      ],
      "metadata": {
        "id": "0QSc79AYBuhH"
      }
    },
    {
      "cell_type": "code",
      "source": [
        "# Save the cleaned data to new CSV files\n",
        "cleaned_mat_path = '/content/drive/MyDrive/student/cleaned_student-mat.csv'\n",
        "cleaned_por_path = '/content/drive/MyDrive/student/cleaned_student-por.csv'\n",
        "\n",
        "math_data.to_csv(cleaned_mat_path, index=False)\n",
        "portuguese_data.to_csv(cleaned_por_path, index=False)\n",
        "\n",
        "# Output the paths to the cleaned files\n",
        "print(\"\\n-> Cleaned 'student-mat.csv' saved at:\", cleaned_mat_path)\n",
        "print(\"\\n-> Cleaned 'student-por.csv' saved at:\", cleaned_por_path)\n"
      ],
      "metadata": {
        "colab": {
          "base_uri": "https://localhost:8080/"
        },
        "id": "tMFqMNgUCBrj",
        "outputId": "0edda2d8-929c-4deb-ebf1-68d9faaa6cdb"
      },
      "execution_count": 6,
      "outputs": [
        {
          "output_type": "stream",
          "name": "stdout",
          "text": [
            "\n",
            "-> Cleaned 'student-mat.csv' saved at: /content/drive/MyDrive/student/cleaned_student-mat.csv\n",
            "\n",
            "-> Cleaned 'student-por.csv' saved at: /content/drive/MyDrive/student/cleaned_student-por.csv\n"
          ]
        }
      ]
    },
    {
      "cell_type": "markdown",
      "source": [
        "# References\n",
        "\n",
        "1. Article by Eyman Alyahyan et al. (2020):\n",
        "- Title: \"Predicting academic success in higher education: literature review and best practices\"\n",
        "- Journal: International Journal of Educational Technology in Higher Education\n",
        "- Published: February 2020\n",
        "- Authors: Eyman Alyahyan and Dilek Düştegör\n",
        "- Available: https://educationaltechnologyjournal.springeropen.com/articles/10.1186/s41239-020-0177-7\n",
        "\n",
        "\n",
        "2. Publication by the OECD (2015):\n",
        "- Title: \"The persistence of gender gaps in education and skills\"\n",
        "- Available: https://www.oecd-ilibrary.org/sites/34680dd5-en/1/3/1/index.html?itemId=/content/publication/34680dd5-en&_csp_=84042831e2796e3dbd529f3148909734&itemIGO=oecd&itemContentType=book\n",
        "\n",
        "\n",
        "3. Article by Jeynes, William H. (2007):\n",
        "- Title: \"The Relationship between Parental Involvement and Urban Secondary School Student Academic Achievement\"\n",
        "- Journal: ERIC\n",
        "- Published: 2007\n",
        "- Authors: Jeynes, William H.\n",
        "- Available: https://eric.ed.gov/?id=EJ748034\n",
        "\n",
        "\n",
        "4. Article by The Portugal News (2020):\n",
        "- Title: \"State of Education 2019\"\n",
        "- Published: December 2020\n",
        "- Authors: TPN/Lusa\n",
        "- Available: https://www.theportugalnews.com/news/2020-12-23/education-improving-in-portugal/57356\n",
        "\n",
        "\n",
        "5. Article by Al Jazeera (2023):\n",
        "- Title: \"‘Unprecedented’ decline in global literacy scores, OECD report says\"\n",
        "- Published: December 2023\n",
        "- Authors: News Agencies\n",
        "- Available: https://www.aljazeera.com/news/2023/12/5/unprecedented-decline-in-global-literacy-scores-osce-report-says\n",
        "\n",
        "\n",
        "6. Report by the American Association of University Women (AAUW):\n",
        "- Title: \"The STEM Gap: Women and Girls in Science, Technology, Engineering and Mathematics\"\n",
        "- Available: https://www.aauw.org/resources/research/the-stem-gap/\n",
        "\n",
        "\n",
        "7. Article by Olivia Guy-Evans et al. (2023):\n",
        "- Title: \"Bronfenbrenner’s Ecological Systems Theory\"\n",
        "- Published: November 2023\n",
        "- Authors: Olivia Guy-Evans and Saul Mcleod\n",
        "- Available: https://www.simplypsychology.org/bronfenbrenner.html\n",
        "\n",
        "\n",
        "8. Article by Sirin, S. R. (2005):\n",
        "- Title: \"Socioeconomic Status and Academic Achievement: A Meta-Analytic Review of Research\"\n",
        "- Published: Fall 2005\n",
        "- Authors: Selcuk R. Sirin\n",
        "- Available: https://www.simplypsychology.org/bronfenbrenner.html\n",
        "\n",
        "\n",
        "9. Article by Mahoney et al. (1997):\n",
        "- Title: \"Do extracurricular activities protect against early school dropout?\"\n",
        "- Published: 1997\n",
        "- Authors: Mahoney, J. L., & Cairns, R. B.\n",
        "- Available: https://psycnet.apa.org/record/1997-07406-005\n",
        "\n",
        "\n",
        "10. Article by Hattie, J. (2008):\n",
        "- Title: \"Visible learning: A synthesis of over 800 meta-analyses relating to achievement\"\n",
        "- Published: 2008\n",
        "- Authors: John Hattie\n",
        "- Available: https://link.springer.com/article/10.1007/s11159-011-9198-8\n",
        "\n",
        "\n",
        "11. Article by Paulo et al. (2008):\n",
        "- Title: \"USING DATA MINING TO PREDICT SECONDARY SCHOOL STUDENT PERFORMANCE\"\n",
        "- Published: 2008\n",
        "- Authors: Paulo Cortez and Alice Silva\n",
        "- Available: https://www.researchgate.net/publication/228780408_Using_data_mining_to_predict_secondary_school_student_performance\n",
        "\n",
        "\n",
        "12. Article by Ian J. Deary et al. (2007):\n",
        "- Title: \"Intelligence and educational achievement\"\n",
        "- Published: 2007\n",
        "- Authors: Ian J. Deary, Steve Strand, Pauline Smith, Cres Fernandes\n",
        "- Available: https://www.sciencedirect.com/science/article/abs/pii/S0160289606000171\n",
        "\n",
        "\n",
        "13. Article by Daniel Voyer et al. (2014):\n",
        "- Title: \"Gender differences in scholastic achievement: A meta-analysis.\"\n",
        "- Published: 2014\n",
        "- Authors: Voyer, Daniel and Voyer, Susan D.\n",
        "- Available: https://psycnet.apa.org/record/2014-15035-001\n",
        "\n",
        "\n",
        "14. Article by Jacquelynne S. Eccles et al. (1999):\n",
        "- Title: \"Student council, volunteering, basketball, or marching band: What kind of extracurricular involvement matters?\"\n",
        "- Published: 1999\n",
        "- Authors: Jacquelynne S. Eccles and Bonnie L. BarberView all authors and affiliations\n",
        "- Available: https://journals.sagepub.com/doi/abs/10.1177/0743558499141003\n"
      ],
      "metadata": {
        "id": "mrx3Z_XivamH"
      }
    },
    {
      "cell_type": "markdown",
      "source": [
        "#Resources\n",
        "- Data Visualization:\n",
        "  - Dr. Joy Eze, Senior Lecture in MSc. in Data Science and Artificial Intelligence at Goldsmiths University of London\n",
        "\n",
        "- Python:\n",
        "  - Official Documentation: Python Documentation​ [Online]\n",
        "  - Available: https://www.python.org/doc/\n",
        "\n",
        "- Scikit Learn:\n",
        "  - Official Documentation: Scikit Learn Documentation​ [Online]\n",
        "  - Available: https://scikit-learn.org/stable/index.html\n",
        "\n",
        "- Pandas:\n",
        "  - Official Documentation: Pandas Documentation​ [Online]\n",
        "  - Available: https://pandas.pydata.org/docs/#:~:text=,Mailing%20List\n",
        "\n",
        "- NumPy:\n",
        "  - Official Documentation: NumPy Documentation [Online]\n",
        "  - Available: https://numpy.org/doc/#:~:text=,User%20Guide%20PDF\n",
        "\n",
        "- Matplotlib.pyplot (a module in Matplotlib library):\n",
        "  - Official Documentation: Matplotlib Pyplot Documentation [Online]\n",
        "  - Available: https://matplotlib.org/stable/api/pyplot_summary.html#:~:text=,cases%20of%20programmatic%20plot%20generation\n",
        "\n",
        "- Seaborn:\n",
        "  - Official Documentation: Seaborn Documentation [Online]\n",
        "  - Available: https://seaborn.pydata.org/#:~:text=,introductory%20notes%20or%20the%20paper"
      ],
      "metadata": {
        "id": "3hUtGJus_6Eu"
      }
    }
  ]
}